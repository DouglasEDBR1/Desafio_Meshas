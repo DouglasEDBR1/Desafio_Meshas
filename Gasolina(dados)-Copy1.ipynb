{
 "cells": [
  {
   "cell_type": "code",
   "execution_count": 893,
   "id": "ab7cd1e3",
   "metadata": {},
   "outputs": [],
   "source": [
    "import pandas as pd\n",
    "%matplotlib inline\n",
    "from os import listdir\n",
    "import matplotlib.pyplot as plt\n",
    "import glob\n",
    "import numpy as np"
   ]
  },
  {
   "cell_type": "code",
   "execution_count": 894,
   "id": "a58853d3",
   "metadata": {},
   "outputs": [],
   "source": [
    "df_fevereiro = pd.read_csv('/Users/Douglas/Documents/Data_Analysis/Gasolina/2021-02-gasolina-etanol.csv', sep = ';', encoding = 'utf8', usecols = [1, 2, 10, 11, 12])\n",
    "df_marco = pd.read_csv('/Users/Douglas/Documents/Data_Analysis/Gasolina/2021-03-gasolina-etanol.csv', sep = ';', encoding = 'utf8', usecols = [1, 2, 10, 11, 12])\n",
    "df_abril = pd.read_csv('/Users/Douglas/Documents/Data_Analysis/Gasolina/2021-04-gasolina-etanol.csv', sep = ';', encoding = 'utf8', usecols = [1, 2, 10, 11, 12])\n",
    "df_maio = pd.read_csv('/Users/Douglas/Documents/Data_Analysis/Gasolina/2021-05-gasolina-etanol-1.csv', sep = ';', encoding = 'utf8', usecols = [1, 2, 10, 11, 12])\n",
    "df_junho = pd.read_csv('/Users/Douglas/Documents/Data_Analysis/Gasolina/2021-06-gasolina-etanol.csv', sep = ';', encoding = 'utf8', usecols = [1, 2, 10, 11, 12])\n",
    "df_julho = pd.read_csv('/Users/Douglas/Documents/Data_Analysis/Gasolina/2021-07-gasolina-etanol.csv', sep = ';', encoding = 'utf8', usecols = [1, 2, 10, 11, 12])\n",
    "#df_2021 = pd.concat([df_fevereiro, df_marco, df_abril, df_maio, df_junho, df_julho])\n",
    "#del df1, df2, df3, df4, df5\n"
   ]
  },
  {
   "cell_type": "code",
   "execution_count": 895,
   "id": "af32e57a",
   "metadata": {},
   "outputs": [],
   "source": [
    "df_fevereiro['Valor de Venda'] = df_fevereiro['Valor de Venda'].str.replace(',', '.') \n",
    "df_marco['Valor de Venda'] = df_marco['Valor de Venda'].str.replace(',', '.') \n",
    "df_abril['Valor de Venda'] = df_abril['Valor de Venda'].str.replace(',', '.') \n",
    "df_maio['Valor de Venda'] = df_maio['Valor de Venda'].str.replace(',', '.') \n",
    "df_junho['Valor de Venda'] = df_junho['Valor de Venda'].str.replace(',', '.') \n",
    "df_julho['Valor de Venda'] = df_julho['Valor de Venda'].str.replace(',', '.') "
   ]
  },
  {
   "cell_type": "code",
   "execution_count": 896,
   "id": "c802fb65",
   "metadata": {},
   "outputs": [],
   "source": [
    "df_fevereiro['Valor de Venda'] = df_fevereiro['Valor de Venda'].astype(float)\n",
    "df_marco['Valor de Venda'] = df_marco['Valor de Venda'].astype(float)\n",
    "df_abril['Valor de Venda'] = df_abril['Valor de Venda'].astype(float)\n",
    "df_maio['Valor de Venda'] = df_maio['Valor de Venda'].astype(float)\n",
    "df_junho['Valor de Venda'] = df_junho['Valor de Venda'].astype(float)\n",
    "df_julho['Valor de Venda'] = df_julho['Valor de Venda'].astype(float)"
   ]
  },
  {
   "cell_type": "code",
   "execution_count": 897,
   "id": "9b78c843",
   "metadata": {},
   "outputs": [],
   "source": [
    "gasolina_fevereiro = df_fevereiro[df_fevereiro['Produto'] == 'GASOLINA']\n",
    "gasolina_marco = df_marco[df_marco['Produto'] == 'GASOLINA']\n",
    "gasolina_abril = df_abril[df_abril['Produto'] == 'GASOLINA']\n",
    "gasolina_maio = df_maio[df_maio['Produto'] == 'GASOLINA']\n",
    "gasolina_junho = df_junho[df_junho['Produto'] == 'GASOLINA']\n",
    "gasolina_julho = df_julho[df_julho['Produto'] == 'GASOLINA']"
   ]
  },
  {
   "cell_type": "code",
   "execution_count": 898,
   "id": "7579a021",
   "metadata": {},
   "outputs": [],
   "source": [
    "etanol_fevereiro = df_fevereiro[df_fevereiro['Produto'] == 'ETANOL']\n",
    "etanol_marco = df_marco[df_marco['Produto'] == 'ETANOL']\n",
    "etanol_abril = df_abril[df_abril['Produto'] == 'ETANOL']\n",
    "etanol_maio = df_maio[df_maio['Produto'] == 'ETANOL']\n",
    "etanol_junho = df_junho[df_junho['Produto'] == 'ETANOL']\n",
    "etanol_julho = df_julho[df_julho['Produto'] == 'ETANOL']"
   ]
  },
  {
   "cell_type": "code",
   "execution_count": null,
   "id": "85fefd2d",
   "metadata": {},
   "outputs": [],
   "source": [
    "df_2021 = pd.concat([gasolina_fevereiro, gasolina_marco, gasolina_abril, gasolina_maio, gasolina_junho, gasolina_julho])\n",
    "df_2021"
   ]
  },
  {
   "cell_type": "markdown",
   "id": "52d71081",
   "metadata": {},
   "source": [
    "# MAIOR VALOR DA GASOLINA POR ESTADO EM 2021"
   ]
  },
  {
   "cell_type": "code",
   "execution_count": 900,
   "id": "fbe953c7",
   "metadata": {},
   "outputs": [
    {
     "data": {
      "text/plain": [
       "Estado - Sigla\n",
       "AC    6.990\n",
       "AL    6.599\n",
       "AM    6.050\n",
       "AP    5.700\n",
       "BA    6.499\n",
       "CE    6.350\n",
       "DF    6.299\n",
       "ES    6.905\n",
       "GO    6.650\n",
       "MA    6.230\n",
       "MG    6.997\n",
       "MS    6.330\n",
       "MT    6.537\n",
       "PA    6.659\n",
       "PB    5.930\n",
       "PE    6.429\n",
       "PI    6.499\n",
       "PR    6.350\n",
       "RJ    6.960\n",
       "RN    6.499\n",
       "RO    6.340\n",
       "RR    5.650\n",
       "RS    6.999\n",
       "SC    6.139\n",
       "SE    5.999\n",
       "SP    6.499\n",
       "TO    6.230\n",
       "Name: Valor de Venda, dtype: float64"
      ]
     },
     "execution_count": 900,
     "metadata": {},
     "output_type": "execute_result"
    }
   ],
   "source": [
    "maior_preco_gasolina_estado_2021 = df_2021.groupby('Estado - Sigla')['Valor de Venda'].max()\n",
    "maior_preco_gasolina_estado_2021"
   ]
  },
  {
   "cell_type": "code",
   "execution_count": 901,
   "id": "a445c7c8",
   "metadata": {},
   "outputs": [],
   "source": [
    "media_fevereiro = gasolina_fevereiro['Valor de Venda'].mean()\n",
    "media_marco = gasolina_marco['Valor de Venda'].mean()\n",
    "media_abril = gasolina_abril['Valor de Venda'].mean()\n",
    "media_maio = gasolina_maio['Valor de Venda'].mean()\n",
    "media_junho = gasolina_junho['Valor de Venda'].mean()\n",
    "media_julho = gasolina_julho['Valor de Venda'].mean()\n"
   ]
  },
  {
   "cell_type": "code",
   "execution_count": 902,
   "id": "0b145099",
   "metadata": {},
   "outputs": [
    {
     "data": {
      "text/html": [
       "<div>\n",
       "<style scoped>\n",
       "    .dataframe tbody tr th:only-of-type {\n",
       "        vertical-align: middle;\n",
       "    }\n",
       "\n",
       "    .dataframe tbody tr th {\n",
       "        vertical-align: top;\n",
       "    }\n",
       "\n",
       "    .dataframe thead th {\n",
       "        text-align: right;\n",
       "    }\n",
       "</style>\n",
       "<table border=\"1\" class=\"dataframe\">\n",
       "  <thead>\n",
       "    <tr style=\"text-align: right;\">\n",
       "      <th></th>\n",
       "      <th>Data</th>\n",
       "      <th>Media</th>\n",
       "    </tr>\n",
       "  </thead>\n",
       "  <tbody>\n",
       "    <tr>\n",
       "      <th>0</th>\n",
       "      <td>Fevereiro/2021</td>\n",
       "      <td>4.912242</td>\n",
       "    </tr>\n",
       "    <tr>\n",
       "      <th>1</th>\n",
       "      <td>Março/2021</td>\n",
       "      <td>5.468486</td>\n",
       "    </tr>\n",
       "    <tr>\n",
       "      <th>2</th>\n",
       "      <td>Abril/2021</td>\n",
       "      <td>5.454334</td>\n",
       "    </tr>\n",
       "    <tr>\n",
       "      <th>3</th>\n",
       "      <td>Maio/2021</td>\n",
       "      <td>5.592663</td>\n",
       "    </tr>\n",
       "    <tr>\n",
       "      <th>4</th>\n",
       "      <td>Junho/2021</td>\n",
       "      <td>5.671506</td>\n",
       "    </tr>\n",
       "    <tr>\n",
       "      <th>5</th>\n",
       "      <td>Julho/2021</td>\n",
       "      <td>5.800254</td>\n",
       "    </tr>\n",
       "  </tbody>\n",
       "</table>\n",
       "</div>"
      ],
      "text/plain": [
       "             Data     Media\n",
       "0  Fevereiro/2021  4.912242\n",
       "1      Março/2021  5.468486\n",
       "2      Abril/2021  5.454334\n",
       "3       Maio/2021  5.592663\n",
       "4      Junho/2021  5.671506\n",
       "5      Julho/2021  5.800254"
      ]
     },
     "execution_count": 902,
     "metadata": {},
     "output_type": "execute_result"
    }
   ],
   "source": [
    "#df9 = pd.DataFrame(data=dados, columns = ['Nome', 'Idade', 'Poupança'])\n",
    "dados = [\n",
    "    [\"Fevereiro/2021\"],\n",
    "    [\"Março/2021\"],\n",
    "    [\"Abril/2021\"],\n",
    "    [\"Maio/2021\"],\n",
    "    [\"Junho/2021\"],\n",
    "    [\"Julho/2021\"],\n",
    "    \n",
    "]\n",
    "\n",
    "media_gasolina_mensal = pd.DataFrame(data=dados, columns = ['Data'])\n",
    "novaColuna = media_fevereiro, media_marco, media_abril, media_maio, media_junho, media_julho\n",
    "media_gasolina_mensal.insert(loc = 1, column='Media', value= novaColuna)\n",
    "\n",
    "media_gasolina_mensal"
   ]
  },
  {
   "cell_type": "markdown",
   "id": "a6b50196",
   "metadata": {},
   "source": [
    "# MEDIA DE VALOR DA GASOLINA POR MÊS EM 2021"
   ]
  },
  {
   "cell_type": "code",
   "execution_count": 903,
   "id": "d05a37da",
   "metadata": {},
   "outputs": [
    {
     "data": {
      "image/png": "[encoded data removed]",
      "text/plain": [
       "<Figure size 432x288 with 1 Axes>"
      ]
     },
     "metadata": {
      "needs_background": "light"
     },
     "output_type": "display_data"
    }
   ],
   "source": [
    "data = []\n",
    "media = []\n",
    "\n",
    "for i in dados:\n",
    "    data.append(i[0])\n",
    "for x in novaColuna:\n",
    "    media.append(x)\n",
    "\n",
    "mes = data\n",
    "media_mensal = media\n",
    "plt.bar(mes, media_mensal, color='green')\n",
    "plt.xticks(mes)\n",
    "plt.ylabel('Média Mensal')\n",
    "plt.xlabel('Mês - Ano')\n",
    "plt.title('Média de Valor da Gasolina por Mês em 2021')\n",
    "\n",
    "plt.show()\n",
    "\n"
   ]
  },
  {
   "cell_type": "code",
   "execution_count": 904,
   "id": "2606a466",
   "metadata": {},
   "outputs": [
    {
     "data": {
      "text/html": [
       "<div>\n",
       "<style scoped>\n",
       "    .dataframe tbody tr th:only-of-type {\n",
       "        vertical-align: middle;\n",
       "    }\n",
       "\n",
       "    .dataframe tbody tr th {\n",
       "        vertical-align: top;\n",
       "    }\n",
       "\n",
       "    .dataframe thead th {\n",
       "        text-align: right;\n",
       "    }\n",
       "</style>\n",
       "<table border=\"1\" class=\"dataframe\">\n",
       "  <thead>\n",
       "    <tr style=\"text-align: right;\">\n",
       "      <th></th>\n",
       "      <th>Estado - Sigla</th>\n",
       "      <th>Município</th>\n",
       "      <th>Produto</th>\n",
       "      <th>Data da Coleta</th>\n",
       "      <th>Valor de Venda</th>\n",
       "    </tr>\n",
       "  </thead>\n",
       "  <tbody>\n",
       "    <tr>\n",
       "      <th>6</th>\n",
       "      <td>BA</td>\n",
       "      <td>ITABUNA</td>\n",
       "      <td>ETANOL</td>\n",
       "      <td>01/04/2021</td>\n",
       "      <td>4.590</td>\n",
       "    </tr>\n",
       "    <tr>\n",
       "      <th>9</th>\n",
       "      <td>CE</td>\n",
       "      <td>MARACANAU</td>\n",
       "      <td>ETANOL</td>\n",
       "      <td>01/04/2021</td>\n",
       "      <td>4.499</td>\n",
       "    </tr>\n",
       "    <tr>\n",
       "      <th>11</th>\n",
       "      <td>CE</td>\n",
       "      <td>MARACANAU</td>\n",
       "      <td>ETANOL</td>\n",
       "      <td>01/04/2021</td>\n",
       "      <td>4.490</td>\n",
       "    </tr>\n",
       "    <tr>\n",
       "      <th>14</th>\n",
       "      <td>CE</td>\n",
       "      <td>MARACANAU</td>\n",
       "      <td>ETANOL</td>\n",
       "      <td>01/04/2021</td>\n",
       "      <td>4.799</td>\n",
       "    </tr>\n",
       "    <tr>\n",
       "      <th>17</th>\n",
       "      <td>CE</td>\n",
       "      <td>MARACANAU</td>\n",
       "      <td>ETANOL</td>\n",
       "      <td>01/04/2021</td>\n",
       "      <td>4.490</td>\n",
       "    </tr>\n",
       "    <tr>\n",
       "      <th>...</th>\n",
       "      <td>...</td>\n",
       "      <td>...</td>\n",
       "      <td>...</td>\n",
       "      <td>...</td>\n",
       "      <td>...</td>\n",
       "    </tr>\n",
       "    <tr>\n",
       "      <th>35587</th>\n",
       "      <td>DF</td>\n",
       "      <td>BRASILIA</td>\n",
       "      <td>ETANOL</td>\n",
       "      <td>28/04/2021</td>\n",
       "      <td>4.559</td>\n",
       "    </tr>\n",
       "    <tr>\n",
       "      <th>35592</th>\n",
       "      <td>MT</td>\n",
       "      <td>CUIABA</td>\n",
       "      <td>ETANOL</td>\n",
       "      <td>28/04/2021</td>\n",
       "      <td>3.699</td>\n",
       "    </tr>\n",
       "    <tr>\n",
       "      <th>35596</th>\n",
       "      <td>RJ</td>\n",
       "      <td>RIO DE JANEIRO</td>\n",
       "      <td>ETANOL</td>\n",
       "      <td>26/04/2021</td>\n",
       "      <td>4.999</td>\n",
       "    </tr>\n",
       "    <tr>\n",
       "      <th>35601</th>\n",
       "      <td>PE</td>\n",
       "      <td>VITORIA DE SANTO ANTAO</td>\n",
       "      <td>ETANOL</td>\n",
       "      <td>25/04/2021</td>\n",
       "      <td>4.520</td>\n",
       "    </tr>\n",
       "    <tr>\n",
       "      <th>35603</th>\n",
       "      <td>ES</td>\n",
       "      <td>ARACRUZ</td>\n",
       "      <td>ETANOL</td>\n",
       "      <td>26/04/2021</td>\n",
       "      <td>4.490</td>\n",
       "    </tr>\n",
       "  </tbody>\n",
       "</table>\n",
       "<p>12146 rows × 5 columns</p>\n",
       "</div>"
      ],
      "text/plain": [
       "      Estado - Sigla               Município Produto Data da Coleta  \\\n",
       "6                 BA                 ITABUNA  ETANOL     01/04/2021   \n",
       "9                 CE               MARACANAU  ETANOL     01/04/2021   \n",
       "11                CE               MARACANAU  ETANOL     01/04/2021   \n",
       "14                CE               MARACANAU  ETANOL     01/04/2021   \n",
       "17                CE               MARACANAU  ETANOL     01/04/2021   \n",
       "...              ...                     ...     ...            ...   \n",
       "35587             DF                BRASILIA  ETANOL     28/04/2021   \n",
       "35592             MT                  CUIABA  ETANOL     28/04/2021   \n",
       "35596             RJ          RIO DE JANEIRO  ETANOL     26/04/2021   \n",
       "35601             PE  VITORIA DE SANTO ANTAO  ETANOL     25/04/2021   \n",
       "35603             ES                 ARACRUZ  ETANOL     26/04/2021   \n",
       "\n",
       "       Valor de Venda  \n",
       "6               4.590  \n",
       "9               4.499  \n",
       "11              4.490  \n",
       "14              4.799  \n",
       "17              4.490  \n",
       "...               ...  \n",
       "35587           4.559  \n",
       "35592           3.699  \n",
       "35596           4.999  \n",
       "35601           4.520  \n",
       "35603           4.490  \n",
       "\n",
       "[12146 rows x 5 columns]"
      ]
     },
     "execution_count": 904,
     "metadata": {},
     "output_type": "execute_result"
    }
   ],
   "source": [
    "etanol_abril"
   ]
  },
  {
   "cell_type": "code",
   "execution_count": 917,
   "id": "66c276c1",
   "metadata": {},
   "outputs": [
    {
     "data": {
      "text/plain": [
       "Município\n",
       "ADAMANTINA                3.790\n",
       "ALVORADA                  5.899\n",
       "AMERICANA                 3.971\n",
       "AMPARO                    3.899\n",
       "ANANINDEUA                4.699\n",
       "                          ...  \n",
       "VINHEDO                   3.999\n",
       "VITORIA                   5.199\n",
       "VITORIA DE SANTO ANTAO    4.590\n",
       "VOLTA REDONDA             5.529\n",
       "VOTORANTIM                3.999\n",
       "Name: Valor de Venda, Length: 229, dtype: float64"
      ]
     },
     "execution_count": 917,
     "metadata": {},
     "output_type": "execute_result"
    }
   ],
   "source": [
    "etanol1 = etanol_abril.groupby('Município')['Valor de Venda'].max()\n",
    "etanol1"
   ]
  },
  {
   "cell_type": "code",
   "execution_count": 915,
   "id": "2ac24cd2",
   "metadata": {},
   "outputs": [
    {
     "data": {
      "text/plain": [
       "Município\n",
       "ADAMANTINA                5.590\n",
       "ALENQUER                  6.100\n",
       "ALVORADA                  5.889\n",
       "AMERICANA                 5.399\n",
       "AMPARO                    5.399\n",
       "                          ...  \n",
       "VINHEDO                   5.399\n",
       "VITORIA                   5.799\n",
       "VITORIA DE SANTO ANTAO    5.480\n",
       "VOLTA REDONDA             6.299\n",
       "VOTORANTIM                5.299\n",
       "Name: Valor de Venda, Length: 232, dtype: float64"
      ]
     },
     "execution_count": 915,
     "metadata": {},
     "output_type": "execute_result"
    }
   ],
   "source": [
    "gasolina1 = gasolina_abril.groupby('Município')['Valor de Venda'].max()"
   ]
  },
  {
   "cell_type": "code",
   "execution_count": 932,
   "id": "de9f55bc",
   "metadata": {},
   "outputs": [
    {
     "data": {
      "text/html": [
       "<div>\n",
       "<style scoped>\n",
       "    .dataframe tbody tr th:only-of-type {\n",
       "        vertical-align: middle;\n",
       "    }\n",
       "\n",
       "    .dataframe tbody tr th {\n",
       "        vertical-align: top;\n",
       "    }\n",
       "\n",
       "    .dataframe thead th {\n",
       "        text-align: right;\n",
       "    }\n",
       "</style>\n",
       "<table border=\"1\" class=\"dataframe\">\n",
       "  <thead>\n",
       "    <tr style=\"text-align: right;\">\n",
       "      <th></th>\n",
       "      <th>Município</th>\n",
       "      <th>Produto</th>\n",
       "      <th>Valor de Venda</th>\n",
       "    </tr>\n",
       "  </thead>\n",
       "  <tbody>\n",
       "    <tr>\n",
       "      <th>6</th>\n",
       "      <td>ITABUNA</td>\n",
       "      <td>ETANOL</td>\n",
       "      <td>4.590</td>\n",
       "    </tr>\n",
       "    <tr>\n",
       "      <th>9</th>\n",
       "      <td>MARACANAU</td>\n",
       "      <td>ETANOL</td>\n",
       "      <td>4.499</td>\n",
       "    </tr>\n",
       "    <tr>\n",
       "      <th>11</th>\n",
       "      <td>MARACANAU</td>\n",
       "      <td>ETANOL</td>\n",
       "      <td>4.490</td>\n",
       "    </tr>\n",
       "    <tr>\n",
       "      <th>14</th>\n",
       "      <td>MARACANAU</td>\n",
       "      <td>ETANOL</td>\n",
       "      <td>4.799</td>\n",
       "    </tr>\n",
       "    <tr>\n",
       "      <th>17</th>\n",
       "      <td>MARACANAU</td>\n",
       "      <td>ETANOL</td>\n",
       "      <td>4.490</td>\n",
       "    </tr>\n",
       "    <tr>\n",
       "      <th>...</th>\n",
       "      <td>...</td>\n",
       "      <td>...</td>\n",
       "      <td>...</td>\n",
       "    </tr>\n",
       "    <tr>\n",
       "      <th>35587</th>\n",
       "      <td>BRASILIA</td>\n",
       "      <td>ETANOL</td>\n",
       "      <td>4.559</td>\n",
       "    </tr>\n",
       "    <tr>\n",
       "      <th>35592</th>\n",
       "      <td>CUIABA</td>\n",
       "      <td>ETANOL</td>\n",
       "      <td>3.699</td>\n",
       "    </tr>\n",
       "    <tr>\n",
       "      <th>35596</th>\n",
       "      <td>RIO DE JANEIRO</td>\n",
       "      <td>ETANOL</td>\n",
       "      <td>4.999</td>\n",
       "    </tr>\n",
       "    <tr>\n",
       "      <th>35601</th>\n",
       "      <td>VITORIA DE SANTO ANTAO</td>\n",
       "      <td>ETANOL</td>\n",
       "      <td>4.520</td>\n",
       "    </tr>\n",
       "    <tr>\n",
       "      <th>35603</th>\n",
       "      <td>ARACRUZ</td>\n",
       "      <td>ETANOL</td>\n",
       "      <td>4.490</td>\n",
       "    </tr>\n",
       "  </tbody>\n",
       "</table>\n",
       "<p>12146 rows × 3 columns</p>\n",
       "</div>"
      ],
      "text/plain": [
       "                    Município Produto  Valor de Venda\n",
       "6                     ITABUNA  ETANOL           4.590\n",
       "9                   MARACANAU  ETANOL           4.499\n",
       "11                  MARACANAU  ETANOL           4.490\n",
       "14                  MARACANAU  ETANOL           4.799\n",
       "17                  MARACANAU  ETANOL           4.490\n",
       "...                       ...     ...             ...\n",
       "35587                BRASILIA  ETANOL           4.559\n",
       "35592                  CUIABA  ETANOL           3.699\n",
       "35596          RIO DE JANEIRO  ETANOL           4.999\n",
       "35601  VITORIA DE SANTO ANTAO  ETANOL           4.520\n",
       "35603                 ARACRUZ  ETANOL           4.490\n",
       "\n",
       "[12146 rows x 3 columns]"
      ]
     },
     "execution_count": 932,
     "metadata": {},
     "output_type": "execute_result"
    }
   ],
   "source": [
    "df_abril.loc[(df_abril[\"Produto\"]==\"ETANOL\"), ['Município', 'Produto', 'Valor de Venda']]"
   ]
  },
  {
   "cell_type": "code",
   "execution_count": null,
   "id": "f6484238",
   "metadata": {},
   "outputs": [],
   "source": []
  }
 ],
 "metadata": {
  "kernelspec": {
   "display_name": "Python 3",
   "language": "python",
   "name": "python3"
  },
  "language_info": {
   "codemirror_mode": {
    "name": "ipython",
    "version": 3
   },
   "file_extension": ".py",
   "mimetype": "text/x-python",
   "name": "python",
   "nbconvert_exporter": "python",
   "pygments_lexer": "ipython3",
   "version": "3.8.8"
  }
 },
 "nbformat": 4,
 "nbformat_minor": 5
}
